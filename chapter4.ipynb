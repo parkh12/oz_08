{
  "nbformat": 4,
  "nbformat_minor": 0,
  "metadata": {
    "colab": {
      "provenance": [],
      "authorship_tag": "ABX9TyNlpGS2pgyl3xxF1TigERgH",
      "include_colab_link": true
    },
    "kernelspec": {
      "name": "python3",
      "display_name": "Python 3"
    },
    "language_info": {
      "name": "python"
    }
  },
  "cells": [
    {
      "cell_type": "markdown",
      "metadata": {
        "id": "view-in-github",
        "colab_type": "text"
      },
      "source": [
        "<a href=\"https://colab.research.google.com/github/parkh12/oz_08/blob/main/chapter4.ipynb\" target=\"_parent\"><img src=\"https://colab.research.google.com/assets/colab-badge.svg\" alt=\"Open In Colab\"/></a>"
      ]
    },
    {
      "cell_type": "markdown",
      "source": [
        "##사칙연산\n",
        "더하기 : +\n",
        "\n",
        "빼기 : -\n",
        "\n",
        "곱하기 : *\n",
        "\n",
        "나누기 :\n",
        "*  / : 우리가 알고 있는 나누기와 동일한 기능 (예 5/2 =2.5)\n",
        "*  // : 몫을 반환 (예 5/2 =2)\n",
        "*  % : 나머지를 반환 (예 5/2 =1)\n",
        "\n",
        "거듭제곱 : **"
      ],
      "metadata": {
        "id": "z93ZCY62FoLx"
      }
    },
    {
      "cell_type": "code",
      "execution_count": null,
      "metadata": {
        "colab": {
          "base_uri": "https://localhost:8080/"
        },
        "id": "6j3W8I1jFgDu",
        "outputId": "05938689-11cf-4fc4-8e0d-e6a32a6add67"
      },
      "outputs": [
        {
          "output_type": "stream",
          "name": "stdout",
          "text": [
            "5\n"
          ]
        }
      ],
      "source": [
        "# 더하기\n",
        "print(3+2)"
      ]
    },
    {
      "cell_type": "code",
      "source": [
        "# 빼기\n",
        "print(3-1)"
      ],
      "metadata": {
        "colab": {
          "base_uri": "https://localhost:8080/"
        },
        "id": "NGt-FCxxHR3V",
        "outputId": "435ff50f-02ce-45a8-c65b-88bfdb3cf167"
      },
      "execution_count": null,
      "outputs": [
        {
          "output_type": "stream",
          "name": "stdout",
          "text": [
            "2\n"
          ]
        }
      ]
    },
    {
      "cell_type": "code",
      "source": [
        "# 곱하기\n",
        "print(3*2)"
      ],
      "metadata": {
        "colab": {
          "base_uri": "https://localhost:8080/"
        },
        "id": "tZIeRimgHcNa",
        "outputId": "60e327a5-e2c7-4da9-b9dc-7f68d32d401a"
      },
      "execution_count": null,
      "outputs": [
        {
          "output_type": "stream",
          "name": "stdout",
          "text": [
            "6\n"
          ]
        }
      ]
    },
    {
      "cell_type": "code",
      "source": [
        "# /\n",
        "print(7/2)\n",
        "\n",
        "# //\n",
        "print(7//2)\n",
        "\n",
        "# %\n",
        "print(7%2)"
      ],
      "metadata": {
        "colab": {
          "base_uri": "https://localhost:8080/"
        },
        "id": "syWaFjo8Ho0h",
        "outputId": "e5fcba51-3eac-4fe6-cda9-52401f90bbcf"
      },
      "execution_count": null,
      "outputs": [
        {
          "output_type": "stream",
          "name": "stdout",
          "text": [
            "3.5\n",
            "3\n",
            "1\n"
          ]
        }
      ]
    },
    {
      "cell_type": "markdown",
      "source": [
        "내장함수 : divmod\n",
        "\n",
        "> 내장함수 : 자주 사용하는 기능을 미리 만들어 놓은것을 내장함수라고 함\n",
        "\n",
        "**divmod** : 몫과 나머지를 동시에 구해줌"
      ],
      "metadata": {
        "id": "NMMBI71SIDQr"
      }
    },
    {
      "cell_type": "code",
      "source": [
        "print(divmod(3, 2))\n",
        "print(divmod(7, 4))\n",
        "print(divmod(13, 2))\n",
        "print(divmod(19, 4))\n",
        "print(divmod(15, 5))\n",
        "\n",
        "print( 7//4, \",\", 7%4)"
      ],
      "metadata": {
        "colab": {
          "base_uri": "https://localhost:8080/"
        },
        "id": "5duNT6beIleK",
        "outputId": "693e2f02-ebbb-4c4f-cd8a-4bbf2687f9ff"
      },
      "execution_count": null,
      "outputs": [
        {
          "output_type": "stream",
          "name": "stdout",
          "text": [
            "(1, 1)\n",
            "(1, 3)\n",
            "(6, 1)\n",
            "(4, 3)\n",
            "(3, 0)\n",
            "1 , 3\n"
          ]
        }
      ]
    },
    {
      "cell_type": "markdown",
      "source": [
        "### 괄호\n",
        "\n",
        "수학에서 사용되는 괄호와 동일한 기능\n",
        "\n",
        "() : 괄호안에 있는 것을 먼저 계산\n",
        "\n",
        "사칙연산 순서 : 괄호 -> 곱셈, 나눗셈-> 덧셈,뺄셈"
      ],
      "metadata": {
        "id": "yTs0Y_ogKIqs"
      }
    },
    {
      "cell_type": "code",
      "source": [
        "3+2*4"
      ],
      "metadata": {
        "colab": {
          "base_uri": "https://localhost:8080/"
        },
        "id": "ddSQl4z4KIG0",
        "outputId": "d254555e-abf1-41e5-8518-98438f7df4f4"
      },
      "execution_count": null,
      "outputs": [
        {
          "output_type": "execute_result",
          "data": {
            "text/plain": [
              "11"
            ]
          },
          "metadata": {},
          "execution_count": 10
        }
      ]
    },
    {
      "cell_type": "code",
      "source": [
        "(3+2)*4"
      ],
      "metadata": {
        "colab": {
          "base_uri": "https://localhost:8080/"
        },
        "id": "_kyVifrmKowR",
        "outputId": "35ec6026-1bc2-4406-9e8d-c93bc4be87a3"
      },
      "execution_count": null,
      "outputs": [
        {
          "output_type": "execute_result",
          "data": {
            "text/plain": [
              "20"
            ]
          },
          "metadata": {},
          "execution_count": 11
        }
      ]
    }
  ]
}